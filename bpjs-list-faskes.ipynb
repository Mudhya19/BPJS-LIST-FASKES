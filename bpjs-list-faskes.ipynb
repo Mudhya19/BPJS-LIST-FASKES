{
 "cells": [
  {
   "cell_type": "markdown",
   "metadata": {},
   "source": [
    "## Analisis dan Prediksi Distribusi Fasilitas Kesehatan BPJS di Indonesia : Mengidentifikasi Kekurangan dan Kebutuhan di Daerah Tertentu\n",
    "\n",
    "## understanding business \n",
    "\n",
    "Dataset yang digunakan yaitu [List BPJS Faskes in Indonesia](https://www.kaggle.com/datasets/israhabibi/list-faskes-bpjs-indonesia). mencerminkan fokus pada analisis distribusi faskes dan prediksi kebutuhan di wilayah yang kurang terlayani\n",
    "\n",
    "## Dataset Information\n",
    "\n",
    "| Variable Name  | Description                                             | Type        | Missing Values |\n",
    "|----------------|---------------------------------------------------------|-------------|----------------|\n",
    "| NoLink         | Unique identifier for each transaction                  | Categorical | No             |\n",
    "| Provinsi       | Province name                                            | Categorical | No             |\n",
    "| KotaKab        | City or Regency name                                     | Categorical | No             |\n",
    "| Link           | Information link count                                   | Integer     | No             |\n",
    "| TipeFaskes     | Type of healthcare facility (e.g., Clinic, Hospital)     | Categorical | No             |\n",
    "| No             | Another unique identifier                                | Continuous  | No             |\n",
    "| KodeFaskes     | Unique code for each healthcare facility                 | Categorical | No             |\n",
    "| NamaFaskes     | Name of the healthcare facility                          | Categorical | No             |\n",
    "| LatLongFaskes  | Latitude and longitude of the healthcare facility        | Categorical | No             |\n",
    "| AlamatFaskes   | Full address of the healthcare facility                  | Categorical | No             |\n",
    "| TelpFaskes     | Contact number of the healthcare facility                | Categorical | No             |\n"
   ]
  },
  {
   "cell_type": "markdown",
   "metadata": {},
   "source": [
    "## SMART QUESTION\n",
    "\n",
    "Dataset yang Anda maksud mencakup daftar fasilitas kesehatan (faskes) BPJS di Indonesia. Berikut adalah beberapa pertanyaan cerdas untuk mempelajari dataset tersebut dari sudut pandang data analisis dan prediksi:\n",
    "\n",
    "\n",
    "1. **Specific:**\n",
    "   - Apa jenis fasilitas kesehatan yang paling umum di setiap provinsi berdasarkan kode faskes?\n",
    "\n",
    "2. **Measurable:**\n",
    "   - Berapa rata-rata jumlah fasilitas BPJS di setiap kota, dan bagaimana perbandingannya di antara kota-kota besar dan kecil?\n",
    "\n",
    "3. **Action-oriented:**\n",
    "   - Dapatkah kita mengklasifikasikan provinsi dengan rasio fasilitas BPJS per penduduk terendah?\n",
    "\n",
    "4. **Relevant:**\n",
    "   - Seberapa penting distribusi fasilitas BPJS dalam meningkatkan akses layanan kesehatan di daerah pedesaan?\n",
    "\n",
    "5. **Time-bound:**\n",
    "   - Bisakah kita mengidentifikasi periode waktu tertentu yang menunjukkan peningkatan signifikan dalam jumlah fasilitas BPJS di wilayah tertentu?"
   ]
  },
  {
   "cell_type": "markdown",
   "metadata": {},
   "source": [
    "Importing Library"
   ]
  },
  {
   "cell_type": "code",
   "execution_count": 11,
   "metadata": {},
   "outputs": [],
   "source": [
    "import pandas as pd\n",
    "import numpy as np\n",
    "import seaborn as sns\n",
    "import matplotlib.pyplot as plt\n",
    "import matplotlib.ticker as ticker\n",
    "import missingno as ms\n",
    "import pygwalker as pyg\n",
    "import warnings\n",
    "import requests\n",
    "\n",
    "from io import StringIO\n",
    "from IPython.display import display, HTML\n",
    "from sklearn.model_selection import train_test_split\n",
    "from sklearn.preprocessing import OneHotEncoder, StandardScaler\n",
    "from sklearn.ensemble import RandomForestRegressor\n",
    "from  sklearn.metrics import mean_absolute_error, mean_squared_error\n",
    "\n",
    "warnings.filterwarnings('ignore')\n",
    "sns.set(style='whitegrid')\n",
    "plt.style.use('Solarize_Light2')"
   ]
  },
  {
   "cell_type": "code",
   "execution_count": 12,
   "metadata": {},
   "outputs": [
    {
     "data": {
      "application/vnd.jupyter.widget-view+json": {
       "model_id": "3240e217e68249ca93b8158c9bf77502",
       "version_major": 2,
       "version_minor": 0
      },
      "text/plain": [
       "Box(children=(HTML(value='\\n<div id=\"ifr-pyg-0006234dd474c554cuPvJYrltKVf9UWB\" style=\"height: auto\">\\n    <hea…"
      ]
     },
     "metadata": {},
     "output_type": "display_data"
    },
    {
     "data": {
      "text/html": [
       "<script>\n",
       "    window.addEventListener(\"message\", function(event) {\n",
       "        const backgroundMap = {\n",
       "            \"dark\": \"hsl(240 10% 3.9%)\",\n",
       "            \"light\": \"hsl(0 0 100%)\",\n",
       "        };\n",
       "        const colorMap = {\n",
       "            \"dark\": \"hsl(0 0% 98%)\",\n",
       "            \"light\": \"hsl(240 10% 3.9%)\",\n",
       "        };\n",
       "        if (event.data.action === \"changeAppearance\" && event.data.gid === \"0006234dd474c554cuPvJYrltKVf9UWB\") {\n",
       "            var iframe = document.getElementById(\"gwalker-0006234dd474c554cuPvJYrltKVf9UWB\");\n",
       "            iframe.style.background  = backgroundMap[event.data.appearance];\n",
       "            iframe.style.color = colorMap[event.data.appearance];\n",
       "        }\n",
       "    });\n",
       "</script>"
      ],
      "text/plain": [
       "<IPython.core.display.HTML object>"
      ]
     },
     "metadata": {},
     "output_type": "display_data"
    },
    {
     "data": {
      "text/html": [],
      "text/plain": [
       "<IPython.core.display.HTML object>"
      ]
     },
     "metadata": {},
     "output_type": "display_data"
    }
   ],
   "source": [
    "df = pd.read_csv('data/juli 2024.csv', encoding='ISO-8859-1')\n",
    "\n",
    "walker = pyg.walk(df)"
   ]
  },
  {
   "cell_type": "code",
   "execution_count": 13,
   "metadata": {},
   "outputs": [],
   "source": [
    "# # Request data from internal server\n",
    "# url = 'http://192.168.11.30:20023'  # Update this path as per your actual URL structure\n",
    "# response = requests.get(url)\n",
    "\n",
    "# # Check if the request was successful\n",
    "# if response.status_code == 200:\n",
    "#     data_string = StringIO(response.text)\n",
    "#     df = pd.read_csv(data_string, encoding='ISO-8859-1')\n",
    "# else:\n",
    "#     raise Exception(f\"Failed to fetch data. HTTP Status Code: {response.status_code}\")"
   ]
  }
 ],
 "metadata": {
  "kernelspec": {
   "display_name": "main-ds",
   "language": "python",
   "name": "python3"
  },
  "language_info": {
   "codemirror_mode": {
    "name": "ipython",
    "version": 3
   },
   "file_extension": ".py",
   "mimetype": "text/x-python",
   "name": "python",
   "nbconvert_exporter": "python",
   "pygments_lexer": "ipython3",
   "version": "3.11.0"
  }
 },
 "nbformat": 4,
 "nbformat_minor": 2
}
