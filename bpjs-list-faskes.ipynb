{
 "cells": [
  {
   "cell_type": "markdown",
   "metadata": {},
   "source": [
    "## Analisis dan Prediksi Distribusi Fasilitas Kesehatan BPJS di Indonesia : Mengidentifikasi Kekurangan dan Kebutuhan di Daerah Tertentu\n",
    "\n",
    "## understanding business \n",
    "\n",
    "Dataset yang digunakan yaitu [List BPJS Faskes in Indonesia](https://www.kaggle.com/datasets/israhabibi/list-faskes-bpjs-indonesia). mencerminkan fokus pada analisis distribusi faskes dan prediksi kebutuhan di wilayah yang kurang terlayani\n",
    "\n",
    "## Dataset Information\n",
    "\n",
    "| Variable Name  | Description                                             | Type        | Missing Values |\n",
    "|----------------|---------------------------------------------------------|-------------|----------------|\n",
    "| NoLink         | Unique identifier for each transaction                  | Categorical | No             |\n",
    "| Provinsi       | Province name                                            | Categorical | No             |\n",
    "| KotaKab        | City or Regency name                                     | Categorical | No             |\n",
    "| Link           | Information link count                                   | Integer     | No             |\n",
    "| TipeFaskes     | Type of healthcare facility (e.g., Clinic, Hospital)     | Categorical | No             |\n",
    "| No             | Another unique identifier                                | Continuous  | No             |\n",
    "| KodeFaskes     | Unique code for each healthcare facility                 | Categorical | No             |\n",
    "| NamaFaskes     | Name of the healthcare facility                          | Categorical | No             |\n",
    "| LatLongFaskes  | Latitude and longitude of the healthcare facility        | Categorical | No             |\n",
    "| AlamatFaskes   | Full address of the healthcare facility                  | Categorical | No             |\n",
    "| TelpFaskes     | Contact number of the healthcare facility                | Categorical | No             |\n"
   ]
  },
  {
   "cell_type": "markdown",
   "metadata": {},
   "source": [
    "## SMART QUESTION\n",
    "\n",
    "Dataset yang Anda maksud mencakup daftar fasilitas kesehatan (faskes) BPJS di Indonesia. Berikut adalah beberapa pertanyaan cerdas untuk mempelajari dataset tersebut dari sudut pandang data analisis dan prediksi:\n",
    "\n",
    "\n",
    "1. **Specific:**\n",
    "   - Apa jenis fasilitas kesehatan yang paling umum di setiap provinsi berdasarkan kode faskes?\n",
    "\n",
    "2. **Measurable:**\n",
    "   - Berapa rata-rata jumlah fasilitas BPJS di setiap kota, dan bagaimana perbandingannya di antara kota-kota besar dan kecil?\n",
    "\n",
    "3. **Action-oriented:**\n",
    "   - Dapatkah kita mengklasifikasikan provinsi dengan rasio fasilitas BPJS per penduduk terendah?\n",
    "\n",
    "4. **Relevant:**\n",
    "   - Seberapa penting distribusi fasilitas BPJS dalam meningkatkan akses layanan kesehatan di daerah pedesaan?\n",
    "\n",
    "5. **Time-bound:**\n",
    "   - Bisakah kita mengidentifikasi periode waktu tertentu yang menunjukkan peningkatan signifikan dalam jumlah fasilitas BPJS di wilayah tertentu?"
   ]
  },
  {
   "cell_type": "markdown",
   "metadata": {},
   "source": [
    "Importing Library"
   ]
  },
  {
   "cell_type": "code",
   "execution_count": 5,
   "metadata": {},
   "outputs": [],
   "source": [
    "import pandas as pd\n",
    "import numpy as np\n",
    "import seaborn as sns\n",
    "import matplotlib.pyplot as plt\n",
    "import matplotlib.ticker as ticker\n",
    "import missingno as ms\n",
    "import warnings\n",
    "\n",
    "from sklearn.model_selection import train_test_split\n",
    "from sklearn.preprocessing import OneHotEncoder, StandardScaler\n",
    "from sklearn.ensemble import RandomForestRegressor\n",
    "from  sklearn.metrics import mean_absolute_error, mean_squared_error\n",
    "\n",
    "warnings.filterwarnings('ignore')\n",
    "sns.set(style='whitegrid')\n",
    "plt.style.use('Solarize_Light2')"
   ]
  }
 ],
 "metadata": {
  "kernelspec": {
   "display_name": "main-ds",
   "language": "python",
   "name": "python3"
  },
  "language_info": {
   "codemirror_mode": {
    "name": "ipython",
    "version": 3
   },
   "file_extension": ".py",
   "mimetype": "text/x-python",
   "name": "python",
   "nbconvert_exporter": "python",
   "pygments_lexer": "ipython3",
   "version": "3.11.0"
  }
 },
 "nbformat": 4,
 "nbformat_minor": 2
}
